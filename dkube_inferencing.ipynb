{
 "cells": [
  {
   "cell_type": "code",
   "execution_count": 10,
   "metadata": {},
   "outputs": [],
   "source": [
    "import pandas as pd\n",
    "import os\n",
    "import requests\n",
    "import random\n",
    "from dkube.sdk import *\n",
    "import time,json,shutil, datetime\n",
    "import joblib\n",
    "import numpy as np\n",
    "\n",
    "test_df = pd.read_csv('xtest.csv')"
   ]
  },
  {
   "cell_type": "code",
   "execution_count": 8,
   "metadata": {},
   "outputs": [],
   "source": [
    "token = os.getenv(\"DKUBE_USER_ACCESS_TOKEN\")\n",
    "predict_url = \"https://10.142.0.3:32222/dkube/inference/user1/9766048a58:predict\"\n",
    "input_features = test_df.columns.to_list()"
   ]
  },
  {
   "cell_type": "code",
   "execution_count": 9,
   "metadata": {},
   "outputs": [
    {
     "name": "stdout",
     "output_type": "stream",
     "text": [
      "['21-30', '11-20']\n"
     ]
    }
   ],
   "source": [
    "# while True:\n",
    "no_of_samples = 2\n",
    "values = test_df.sample(no_of_samples).values\n",
    "payload = {\"instances\": values.tolist(), \"token\": token}\n",
    "r = requests.post(predict_url, json=payload, \n",
    "              headers = {'authorization': \"Bearer \" + token}, \n",
    "              verify = False)\n",
    "if r.status_code == 200:\n",
    "    print(r.json()[\"predictions\"])"
   ]
  },
  {
   "cell_type": "code",
   "execution_count": null,
   "metadata": {},
   "outputs": [],
   "source": []
  },
  {
   "cell_type": "code",
   "execution_count": null,
   "metadata": {},
   "outputs": [],
   "source": []
  }
 ],
 "metadata": {
  "interpreter": {
   "hash": "76745e4fd0f863fa3ca0d31ae512413a06fb634bb53988d8f64c37d44f52d415"
  },
  "kernelspec": {
   "display_name": "Python 3",
   "language": "python",
   "name": "python3"
  },
  "language_info": {
   "codemirror_mode": {
    "name": "ipython",
    "version": 3
   },
   "file_extension": ".py",
   "mimetype": "text/x-python",
   "name": "python",
   "nbconvert_exporter": "python",
   "pygments_lexer": "ipython3",
   "version": "3.8.8"
  },
  "toc": {
   "base_numbering": 1,
   "nav_menu": {},
   "number_sections": true,
   "sideBar": true,
   "skip_h1_title": false,
   "title_cell": "Table of Contents",
   "title_sidebar": "Contents",
   "toc_cell": false,
   "toc_position": {},
   "toc_section_display": true,
   "toc_window_display": false
  }
 },
 "nbformat": 4,
 "nbformat_minor": 4
}
